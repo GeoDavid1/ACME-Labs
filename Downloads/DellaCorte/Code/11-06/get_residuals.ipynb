{
 "cells": [
  {
   "cell_type": "code",
   "execution_count": null,
   "metadata": {},
   "outputs": [],
   "source": [
    "# The path is '/Users/user/Downloads/DellaCorte/Sqrt_Final_Averages.xlsx'\n",
    "\n",
    "# Get the residuals of all the columns[2:] from "
   ]
  }
 ],
 "metadata": {
  "language_info": {
   "name": "python"
  },
  "orig_nbformat": 4
 },
 "nbformat": 4,
 "nbformat_minor": 2
}
