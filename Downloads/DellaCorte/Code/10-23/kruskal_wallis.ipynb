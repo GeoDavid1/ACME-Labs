{
 "cells": [
  {
   "cell_type": "code",
   "execution_count": 2,
   "metadata": {},
   "outputs": [],
   "source": [
    "import pandas as pd\n",
    "\n",
    "ANTHRO_DATA = pd.read_excel('/Users/user/Downloads/DellaCorte/Data/anthro_weighted_averages.xlsx')\n",
    "BLOOD_DATA = pd.read_excel('/Users/user/Downloads/DellaCorte/Data/blood_weighted_averages.xlsx')\n",
    "INTAKE_DATA = pd.read_excel('/Users/user/Downloads/DellaCorte/Data/intake_weighted_averages.xlsx')\n"
   ]
  },
  {
   "cell_type": "code",
   "execution_count": null,
   "metadata": {},
   "outputs": [],
   "source": [
    "# Now merge all the data together on 'participant_id'"
   ]
  }
 ],
 "metadata": {
  "kernelspec": {
   "display_name": "Python 3",
   "language": "python",
   "name": "python3"
  },
  "language_info": {
   "codemirror_mode": {
    "name": "ipython",
    "version": 3
   },
   "file_extension": ".py",
   "mimetype": "text/x-python",
   "name": "python",
   "nbconvert_exporter": "python",
   "pygments_lexer": "ipython3",
   "version": "3.9.12"
  },
  "orig_nbformat": 4
 },
 "nbformat": 4,
 "nbformat_minor": 2
}
