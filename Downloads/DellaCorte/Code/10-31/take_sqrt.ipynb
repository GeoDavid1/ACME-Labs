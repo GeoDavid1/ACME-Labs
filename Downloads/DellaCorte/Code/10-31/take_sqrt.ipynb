{
 "cells": [
  {
   "cell_type": "code",
   "execution_count": 1,
   "metadata": {},
   "outputs": [
    {
     "name": "stdout",
     "output_type": "stream",
     "text": [
      "Square roots saved to sqrt.xlsx\n"
     ]
    }
   ],
   "source": [
    "import pandas as pd\n",
    "\n",
    "# Define the path to your Excel file\n",
    "path = '/Users/user/Downloads/DellaCorte/XSLX/Merged.xlsx'\n",
    "sheet_name = 'Merged_Averages_By_Participant'\n",
    "\n",
    "# Load the data from the Excel file into a Pandas DataFrame\n",
    "df = pd.read_excel(path, sheet_name=sheet_name)\n",
    "\n",
    "# Create a new DataFrame for the square roots\n",
    "sqrt_df = df.copy()\n",
    "\n",
    "# Iterate through each column, take the square root\n",
    "for column in df.columns:\n",
    "    if column != 'participant_id':\n",
    "        sqrt_df[column] = df[column].apply(lambda x: x**0.5)\n",
    "\n",
    "# Save the DataFrame with square roots to an Excel file\n",
    "output_path = 'sqrt.xlsx'\n",
    "sqrt_df.to_excel(output_path, index=False)\n",
    "print(f'Square roots saved to {output_path}')\n",
    "\n"
   ]
  }
 ],
 "metadata": {
  "kernelspec": {
   "display_name": "Python 3",
   "language": "python",
   "name": "python3"
  },
  "language_info": {
   "codemirror_mode": {
    "name": "ipython",
    "version": 3
   },
   "file_extension": ".py",
   "mimetype": "text/x-python",
   "name": "python",
   "nbconvert_exporter": "python",
   "pygments_lexer": "ipython3",
   "version": "3.11.5"
  },
  "orig_nbformat": 4
 },
 "nbformat": 4,
 "nbformat_minor": 2
}
