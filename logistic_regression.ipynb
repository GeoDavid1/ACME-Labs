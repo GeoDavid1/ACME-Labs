{
 "cells": [
  {
   "cell_type": "markdown",
   "metadata": {},
   "source": [
    "# Logistic Regression\n",
    "\n",
    "## Name\n",
    "\n",
    "## Class\n",
    "\n",
    "## Date"
   ]
  },
  {
   "cell_type": "code",
   "execution_count": 20,
   "metadata": {},
   "outputs": [],
   "source": [
    "# Import needed imports\n",
    "import numpy as np\n",
    "from scipy.optimize import minimize\n",
    "from sklearn.linear_model import LogisticRegression\n",
    "from sklearn import datasets\n",
    "from sklearn.model_selection import train_test_split\n",
    "from sklearn.metrics import accuracy_score\n",
    "from sklearn import svm\n",
    "import pandas as pd\n",
    "import statsmodels.api as sm\n",
    "import time\n",
    "from matplotlib import pyplot as plt"
   ]
  },
  {
   "cell_type": "markdown",
   "metadata": {},
   "source": [
    "## Problem 1\n",
    "\n",
    "Create a classifier called `LogiReg` that accepts an $(n \\times 1)$ array $y$ of binary labels ($0$'s and $1$'s) as well as an $(n \\times d)$ array $X$ of data points. Write a `fit()` method that finds and saves the optimal $\\widehat{\\boldsymbol{\\beta}}$.\n",
    "\n",
    "## Problem 2\n",
    "\n",
    "Write a method called `predict_prob()` that accepts an $(n \\times d)$ array $x\\_test$ and returns $P(Y=1 | x\\_test)$. Also write a method called `predict()` that calls `predict_prob()` and returns an array of predicted labels ($0$'s or $1$'s) for the given array $x\\_test$."
   ]
  },
  {
   "cell_type": "code",
   "execution_count": 115,
   "metadata": {},
   "outputs": [],
   "source": [
    "class LogiReg(): \n",
    "    \n",
    "    def fit(self, X, y):\n",
    "        \"\"\"\n",
    "        input:\n",
    "        X: ndarray(n, d)\n",
    "        y: ndarray(n, 1) taking values only in {0,1}\n",
    "        \n",
    "        Save y and X as attributes.\n",
    "        Updates beta, the coefficient array of shape (d, 1) that\n",
    "        minimizes the negative log likelihood for the given data \n",
    "        with the model p(y|x) = sigm(x^T @ beta).      \n",
    "        \"\"\"\n",
    "        \n",
    "        \n",
    "        # Get shape; make y an attribute\n",
    "        n, d = X.shape\n",
    "        self.y = y\n",
    "        \n",
    "        # Add a column of ones to X; make X an attribute\n",
    "        col_ones = np.ones(n)\n",
    "        self.X = np.column_stack((col_ones, X))\n",
    "        \n",
    "        # Define the log_likelihood function\n",
    "        def calculate_log_likelihood(b):\n",
    "            log_likelihood = 0\n",
    "            for i in range(len(X)):\n",
    "                log_likelihood += self.y[i] * np.log(1 + np.exp(-self.X[i].T @ b)) + (1-self.y[i]) * np.log(1 + np.exp(self.X[i].T @ b))\n",
    "            return log_likelihood\n",
    "        \n",
    "        # Run the log_likelihood function\n",
    "        log_likelihood_function = lambda b: calculate_log_likelihood(b)\n",
    "        \n",
    "        # Get the desired beta array\n",
    "        result = minimize(log_likelihood_function, np.zeros(self.X.shape[1]))\n",
    "        self.beta = result.x\n",
    "        \n",
    "     \n",
    "    def predict_prob(self, x_test):\n",
    "        \"\"\"\n",
    "        Returns the predicted probability of an input x_test.\n",
    "        If x_test has shape (p, q), then the predicted probability\n",
    "        has shape (1, q).\n",
    "        \"\"\" \n",
    "        \n",
    "        # Get and return predicted probabilities\n",
    "        predicted_probabilities = 1/(1 + np.exp(-x_test @ self.beta))\n",
    "        return predicted_probabilities\n",
    "        \n",
    "        \n",
    "           \n",
    "    def predict(self, x_test):\n",
    "        \"\"\"\n",
    "        Returns the predicted classification (1 or 0) of x_test.\n",
    "        If x_test has shape (p, q), then the predicted classification\n",
    "        has shape (1, q).\n",
    "        \"\"\" \n",
    "        \n",
    "        # Add a column of ones to x_test\n",
    "        x_test = np.column_stack((np.ones(x_test.shape[0]), x_test))\n",
    "        \n",
    "        # Initialize predictions array\n",
    "        predictions = []     \n",
    "        \n",
    "        # Get probabilities \n",
    "        probs = self.predict_prob(x_test)\n",
    "        \n",
    "        # Get predicted classifications\n",
    "        for prob in probs:\n",
    "            if prob >= 1/2:\n",
    "                predictions.append(1)\n",
    "            else:\n",
    "                predictions.append(0)\n",
    "    \n",
    "        # Return the predicted classifications\n",
    "        return np.array(predictions)\n",
    "        \n",
    "        "
   ]
  },
  {
   "cell_type": "markdown",
   "metadata": {},
   "source": [
    "## Problem 3\n",
    "\n",
    "Test your classifier from the previous two problems using arrays $X$, $y$, and $X\\_test$. Train your classifier on $X$ and $y$. Then generate a list of predicted labels using your trained classifier and $X\\_test$, and use it to plot $X\\_test$ with a different color for each predicted label."
   ]
  },
  {
   "cell_type": "code",
   "execution_count": 131,
   "metadata": {},
   "outputs": [],
   "source": [
    "data = np.column_stack(( \n",
    "    np.concatenate(( \n",
    "        # draw from 2 2-dim. multivariate normal dists.\n",
    "        np.random.multivariate_normal(np.array([1,2]), np.eye(2), 100),\n",
    "        np.random.multivariate_normal(np.array([4,3]), np.eye(2), 100) )), \n",
    "    # labels corresonding to each distribution\n",
    "    np.concatenate(( np.zeros(100), np.ones(100) )) ))\n",
    "np.random.shuffle(data)\n",
    "# extract X and y from the shuffled data\n",
    "X = data[:,:2]\n",
    "y = data[:,2].astype(int)\n",
    "\n",
    "X_test = np.concatenate(( \n",
    "    # draw from 2 identical 2-dim. multivariate normal dists.\n",
    "    np.random.multivariate_normal(np.array([1,2]), np.eye(2), 100),\n",
    "    np.random.multivariate_normal(np.array([4,3]), np.eye(2), 100) ))\n",
    "np.random.shuffle(X_test)\n",
    "\n",
    "\n",
    "\n",
    "# Make a LogiReg object, fit it and then predict y_test\n",
    "prob_3_lr = LogiReg()\n",
    "prob_3_lr.fit(X,y)\n",
    "y_test = prob_3_lr.predict(X_test)\n",
    "\n",
    "\n",
    "\n"
   ]
  },
  {
   "cell_type": "code",
   "execution_count": 134,
   "metadata": {},
   "outputs": [
    {
     "data": {
      "image/png": "[encoded data removed]",
      "text/plain": [
       "<Figure size 1000x400 with 2 Axes>"
      ]
     },
     "metadata": {},
     "output_type": "display_data"
    }
   ],
   "source": [
    "# Make subplots\n",
    "fig, (ax1, ax2) = plt.subplots(1,2, figsize = (10,4))\n",
    "\n",
    "# Plot original data\n",
    "ax1.scatter(X[:,0][y== 0], X[:, 1][y==0], color = 'blue')\n",
    "ax1.scatter(X[:,0][y==1], X[:, 1][y==1], color = 'red')\n",
    "ax1.set_title('Original Data')\n",
    "\n",
    "# Plot data using LogiReg\n",
    "ax2.scatter(X_test[:,0][y_test == 0], X_test[:, 1][y_test==0], color = 'blue')\n",
    "ax2.scatter(X_test[:,0][y_test == 1], X_test[:, 1][y_test == 1], color = 'red')\n",
    "ax2.set_title('Data Labeled using LogiReg')\n",
    "\n",
    "# Show data\n",
    "plt.show()"
   ]
  },
  {
   "cell_type": "markdown",
   "metadata": {},
   "source": [
    "## Problem 4\n",
    "\n",
    "Using each of `LogiReg`, `statsmodels.Logit`, `sklearn.LogisticRegression`, and `sklearn.svm` train a logistic regression classifier on $X$ and $y$ to generate a list of predicted labels for $X\\_test$. Then, using $y\\_test$, print the accuracy scores for each trained model. Compare the accuracies and training/testing time for all three classifiers. Be sure to add a constant feature with each model."
   ]
  },
  {
   "cell_type": "code",
   "execution_count": 159,
   "metadata": {},
   "outputs": [],
   "source": [
    "# predefine the true beta\n",
    "beta = np.random.normal(0, 7, 20)\n",
    "\n",
    "# X is generated from 2 20-dim. multivariate normal dists.\n",
    "X = np.concatenate(( \n",
    "        np.random.multivariate_normal(np.zeros(20), np.eye(20), 100), \n",
    "        np.random.multivariate_normal(np.ones(20)*2, np.eye(20), 100) ))\n",
    "np.random.shuffle(X)\n",
    "# create y based on the true beta\n",
    "pred = 1. / (1. + np.exp(-X @ beta))  \n",
    "y = np.array( [1 if pred[i] >= 1/2 else 0 \n",
    "            for i in range(pred.shape[0])] )\n",
    "\n",
    "# X_test and y_test are generated similar to X and y\n",
    "X_test = np.concatenate(( \n",
    "        np.random.multivariate_normal(np.zeros(20), np.eye(20), 100), \n",
    "        np.random.multivariate_normal(np.ones(20), np.eye(20), 100) ))\n",
    "np.random.shuffle(X_test)\n",
    "pred = 1. / (1. + np.exp(-X_test @ beta))\n",
    "y_test = np.array( [1 if pred[i] >= 1/2 else 0 \n",
    "            for i in range(pred.shape[0])] )\n",
    "\n",
    "\n"
   ]
  },
  {
   "cell_type": "code",
   "execution_count": 160,
   "metadata": {},
   "outputs": [],
   "source": [
    "# Use LogiReg\n",
    "\n",
    "# Start time\n",
    "time1_start = time.time()\n",
    "# Make an object of LogiReg\n",
    "prob_4_lr = LogiReg()\n",
    "prob_4_lr.fit(X,y)\n",
    "\n",
    "# Set predicted and true labels\n",
    "pred_labels = prob_4_lr.predict(X_test)\n",
    "true_labels = y_test\n",
    "\n",
    "# Find accuracy score\n",
    "score = accuracy_score(true_labels, pred_labels)\n",
    "\n",
    "# Get total time\n",
    "time1_end = time.time()\n",
    "time1 = time1_end - time1_start\n",
    "\n"
   ]
  },
  {
   "cell_type": "code",
   "execution_count": 161,
   "metadata": {},
   "outputs": [
    {
     "name": "stdout",
     "output_type": "stream",
     "text": [
      "Accuracy Score for LogiReg: 0.955 with Time: 2.872997999191284 \n"
     ]
    }
   ],
   "source": [
    "# LogiReg\n",
    "\n",
    "print(f'Accuracy Score for LogiReg: {score} with Time: {time1} ')"
   ]
  },
  {
   "cell_type": "code",
   "execution_count": 162,
   "metadata": {},
   "outputs": [
    {
     "name": "stdout",
     "output_type": "stream",
     "text": [
      "Accuracy Score for sklearn.LogisticRegression: 0.95 with Time: 0.009089231491088867\n"
     ]
    }
   ],
   "source": [
    "# Use sklearn.LogisticRegression\n",
    "\n",
    "# Start time\n",
    "time2_start = time.time()\n",
    "# Make the model and get labels\n",
    "lr_model = LogisticRegression(fit_intercept = True).fit(X,y)\n",
    "lr_labels = lr_model.predict(X_test)\n",
    "\n",
    "# Get score\n",
    "score = lr_model.score(X_test, y_test)\n",
    "\n",
    "# Get total time\n",
    "time2_end = time.time()\n",
    "time2 = time2_end - time2_start\n",
    "\n",
    "# Find accuracy score\n",
    "print(f'Accuracy Score for sklearn.LogisticRegression: {score} with Time: {time2}')\n"
   ]
  },
  {
   "cell_type": "code",
   "execution_count": 163,
   "metadata": {},
   "outputs": [
    {
     "name": "stdout",
     "output_type": "stream",
     "text": [
      "Accuracy Score for sklearn.svm: 0.955 with Time: 0.006815910339355469\n"
     ]
    }
   ],
   "source": [
    "# Use sklearn.svm\n",
    "\n",
    "# Start time\n",
    "time3_start = time.time()\n",
    "# Make the model and get labels\n",
    "svm_model = svm.SVC(kernel = 'linear').fit(X,y)\n",
    "pred_labels = svm_model.predict(X_test)\n",
    "true_labels = y_test\n",
    "\n",
    "# Find accuracy score\n",
    "score = accuracy_score(true_labels, pred_labels)\n",
    "\n",
    "# Get total time\n",
    "time3_end = time.time()\n",
    "time3 = time3_end - time3_start\n",
    "print(f'Accuracy Score for sklearn.svm: {score} with Time: {time3}')\n"
   ]
  },
  {
   "cell_type": "markdown",
   "metadata": {},
   "source": [
    "## Problem 5\n",
    "\n",
    "Import the Iris Dataset and perform a train-test split on only the first two columns of the data with `test_size=0.4`. Train a multinomial logistic regression model using the training data with an added constant feature, and generate prediction labels for the test data.\n",
    "\n",
    "Plot the test data by color using your prediction labels. Also, print the model score"
   ]
  },
  {
   "cell_type": "code",
   "execution_count": 127,
   "metadata": {},
   "outputs": [],
   "source": [
    "# Load in dataset\n",
    "iris = datasets.load_iris()\n",
    "\n",
    "# Get X, y\n",
    "X = iris.data[:, :2]\n",
    "y = iris.target\n",
    "\n",
    "# Do a train/test split\n",
    "X_train, X_test, y_train, y_test = train_test_split(X, y, test_size = 0.4)"
   ]
  },
  {
   "cell_type": "code",
   "execution_count": 128,
   "metadata": {},
   "outputs": [],
   "source": [
    "# Run a Multiclass Logistic Regression \n",
    "model = LogisticRegression(multi_class= 'multinomial', fit_intercept = True).fit(X_train, y_train)\n",
    "y_test = model.predict(X_test)\n"
   ]
  },
  {
   "cell_type": "code",
   "execution_count": 130,
   "metadata": {},
   "outputs": [
    {
     "data": {
      "text/plain": [
       "Text(0, 0.5, 'Sepal Width')"
      ]
     },
     "execution_count": 130,
     "metadata": {},
     "output_type": "execute_result"
    },
    {
     "data": {
      "image/png": "[encoded data removed]",
      "text/plain": [
       "<Figure size 1000x400 with 2 Axes>"
      ]
     },
     "metadata": {},
     "output_type": "display_data"
    }
   ],
   "source": [
    "# Make subplots\n",
    "fig, (ax1, ax2) = plt.subplots(1,2, figsize = (10,4))\n",
    "\n",
    "# Plot Actual Data\n",
    "ax1.scatter(X_train[:,0][y_train== 0], X_train[:, 1][y_train==0], color = 'blue')\n",
    "ax1.scatter(X_train[:,0][y_train==1], X_train[:, 1][y_train==1], color = 'red')\n",
    "ax1.set_title('Actual X_test Data')\n",
    "ax1.set_xlabel('Sepal Length')\n",
    "ax1.set_ylabel('Sepal Width')\n",
    "\n",
    "# Pot Predicted Data\n",
    "ax2.scatter(X_test[:,0][y_test == 0], X_test[:, 1][y_test==0], color = 'blue')\n",
    "ax2.scatter(X_test[:,0][y_test == 1], X_test[:, 1][y_test == 1], color = 'red')\n",
    "ax2.set_title('Predicted X_test Data')\n",
    "ax2.set_xlabel('Sepal Length')\n",
    "ax2.set_ylabel('Sepal Width')"
   ]
  }
 ],
 "metadata": {
  "kernelspec": {
   "display_name": "Python 3 (ipykernel)",
   "language": "python",
   "name": "python3"
  },
  "language_info": {
   "codemirror_mode": {
    "name": "ipython",
    "version": 3
   },
   "file_extension": ".py",
   "mimetype": "text/x-python",
   "name": "python",
   "nbconvert_exporter": "python",
   "pygments_lexer": "ipython3",
   "version": "3.11.5"
  }
 },
 "nbformat": 4,
 "nbformat_minor": 2
}
