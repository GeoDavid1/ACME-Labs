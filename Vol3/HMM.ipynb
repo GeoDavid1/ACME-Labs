{
 "cells": [
  {
   "cell_type": "markdown",
   "metadata": {},
   "source": [
    "# Volume 3: Discrete Hidden Markov Models\n",
    "    <Name>\n",
    "    <Class>\n",
    "    <Date>"
   ]
  },
  {
   "cell_type": "code",
   "execution_count": 187,
   "metadata": {},
   "outputs": [
    {
     "name": "stdout",
     "output_type": "stream",
     "text": [
      "Requirement already satisfied: hmmlearn in /Users/user/Local/Deep_Learning_Project/.conda/lib/python3.11/site-packages (0.3.0)\n",
      "Requirement already satisfied: numpy>=1.10 in /Users/user/Local/Deep_Learning_Project/.conda/lib/python3.11/site-packages (from hmmlearn) (1.26.1)\n",
      "Requirement already satisfied: scikit-learn!=0.22.0,>=0.16 in /Users/user/Local/Deep_Learning_Project/.conda/lib/python3.11/site-packages (from hmmlearn) (1.2.2)\n",
      "Requirement already satisfied: scipy>=0.19 in /Users/user/Local/Deep_Learning_Project/.conda/lib/python3.11/site-packages (from hmmlearn) (1.11.3)\n",
      "Requirement already satisfied: joblib>=1.1.1 in /Users/user/Local/Deep_Learning_Project/.conda/lib/python3.11/site-packages (from scikit-learn!=0.22.0,>=0.16->hmmlearn) (1.2.0)\n",
      "Requirement already satisfied: threadpoolctl>=2.0.0 in /Users/user/Local/Deep_Learning_Project/.conda/lib/python3.11/site-packages (from scikit-learn!=0.22.0,>=0.16->hmmlearn) (2.2.0)\n"
     ]
    }
   ],
   "source": [
    "# Import needed libraries\n",
    "\n",
    "!pip install hmmlearn \n",
    "\n",
    "import numpy as np\n",
    "import copy\n",
    "import string\n",
    "import codecs\n",
    "from hmmlearn import hmm"
   ]
  },
  {
   "cell_type": "markdown",
   "metadata": {},
   "source": [
    "# Problems 1-5\n",
    "This is the HMM class that you will be adding functions to throughout the lab."
   ]
  },
  {
   "cell_type": "code",
   "execution_count": 188,
   "metadata": {},
   "outputs": [],
   "source": [
    "class HMM(object):\n",
    "    \"\"\"\n",
    "    Finite state space hidden Markov model.\n",
    "    \"\"\"\n",
    "    \n",
    "    # Problem 1\n",
    "    def __init__(self, A, B, pi):\n",
    "        \"\"\"\n",
    "        Initialize an HMM with parameters A, B, and pi.\n",
    "        \"\"\"\n",
    "        # Initialize parameters\n",
    "        self.A = A\n",
    "        self.B = B\n",
    "        self.pi = pi\n",
    "    \n",
    "    \n",
    "    # Problem 2\n",
    "    def forward_pass(self, z):\n",
    "        \"\"\"\n",
    "        Compute the forward probability matrix.\n",
    "\n",
    "        Parameters\n",
    "        ----------\n",
    "        z : ndarray of shape (T,)\n",
    "            The observation sequence\n",
    "\n",
    "        Returns\n",
    "        -------\n",
    "        alpha : ndarray of shape (T, n)\n",
    "            The forward probability matrix\n",
    "        \"\"\"\n",
    "        \n",
    "        # Get shapes and initialize forward probability matrix\n",
    "        T = z.shape[0]\n",
    "        n = self.A.shape[0]\n",
    "        alpha_arrays = np.zeros((T,n))\n",
    "        \n",
    "        # Define function to calculate the alpha values\n",
    "        def alpha_values(t, i, memo):\n",
    "            if t ==0:\n",
    "                return self.pi[i] * self.B[z[0],i]\n",
    "            elif (t,i) in memo:\n",
    "                return memo[(t,i)]\n",
    "            else:\n",
    "                # Do a recursive algorithm\n",
    "                result = self.B[z[t], i] * np.sum([alpha_values(t-1, j, memo) * self.A[i,j] for j in range(n)])\n",
    "                memo[(t,i)] = result # Cache the result\n",
    "                return result\n",
    "            \n",
    "        memo = {}\n",
    "        # Fill out the probability matrix      \n",
    "        for t in range(T):\n",
    "            for i in range(n):\n",
    "                alpha_arrays[t,i] = alpha_values(t,i,memo)\n",
    "        \n",
    "        # Return the probability matrix   \n",
    "        return alpha_arrays\n",
    "        \n",
    "    \n",
    "    \n",
    "    # Problem 4\n",
    "    def backward_pass(self, z):\n",
    "        \"\"\"\n",
    "        Compute the backward probability matrix and gamma values.\n",
    "\n",
    "        Parameters\n",
    "        ----------\n",
    "        z : ndarray of shape (T,)\n",
    "            The observation sequence\n",
    "\n",
    "        Returns\n",
    "        -------\n",
    "        beta : ndarray of shape (T, n)\n",
    "            The backward probability matrix\n",
    "        gamma : ndarray of shape (T, n)\n",
    "            The state probability matrix\n",
    "        \"\"\"\n",
    "        # Get the alpha values and the denominator values\n",
    "        alpha_arrays = self.forward_pass(z)\n",
    "        denom_prob = np.sum(alpha_arrays[-1, :])\n",
    "        \n",
    "        # Get shapes\n",
    "        T = z.shape[0]\n",
    "        n = self.A.shape[0]\n",
    "        \n",
    "        # Initialize beta arrays\n",
    "        beta_arrays = np.zeros((T, n), dtype=float)  # Ensure the dtype is set to float\n",
    "\n",
    "        # Define function to get beta arrays\n",
    "        def beta_values(t, j, memo):\n",
    "            if t == T - 1:\n",
    "                return 1\n",
    "            elif (t, j) in memo:\n",
    "                return memo[(t, j)]\n",
    "            else:\n",
    "                # Do a recursive algorithm\n",
    "                result = np.sum([self.A[i, j] * beta_values(t + 1, i, memo) * self.B[z[t + 1], i] for i in range(n)])\n",
    "                memo[(t, j)] = result  # Cache the result\n",
    "                return result\n",
    "\n",
    "        memo = {}\n",
    "        # Fill out the probability matrix\n",
    "        for t in range(T):\n",
    "            for i in range(n):\n",
    "                beta_arrays[t,i] = beta_values(t, i, memo)\n",
    "        \n",
    "        # Calculate gamma arrays, return beta and gamma arrays\n",
    "        gamma_arrays = (beta_arrays * alpha_arrays) / denom_prob\n",
    "        return beta_arrays, gamma_arrays\n",
    "\n",
    "        \n",
    "    \n",
    "    # Problem 5\n",
    "    def viterbi_algorithm(self, z):\n",
    "        \"\"\"\n",
    "        Compute the most likely hidden state sequence using the Viterbi algorithm.\n",
    "\n",
    "        Parameters\n",
    "        ----------\n",
    "        z : ndarray of shape (T,)\n",
    "            The observation sequence\n",
    "\n",
    "        Returns\n",
    "        -------\n",
    "        x*: ndarray of shape (T,)\n",
    "            The most likely state sequence\n",
    "        \"\"\"\n",
    "        # Get shapes; initialize nu_arrays\n",
    "        T = z.shape[0]\n",
    "        n = self.A.shape[0]\n",
    "        nu_arrays = np.zeros((T,n))\n",
    "        \n",
    "        # Define nu_values function\n",
    "        def nu_values(t,i,memo):\n",
    "            if t == 0:\n",
    "                return self.B[z[0],i] * self.pi[i]\n",
    "            elif (t,i) in memo:\n",
    "                return memo[(t,i)]\n",
    "            else:\n",
    "                # Do a recursive algorithm\n",
    "                result = np.max([self.B[z[t],i] * self.A[i,j] * nu_values(t-1,j,memo) for j in range(n)])\n",
    "                memo[(t,i)] = result # Cache the result\n",
    "                return result\n",
    "            \n",
    "        memo = {}\n",
    "        # Fill out the nu matrix\n",
    "        for t in range(T):\n",
    "            for i in range(n):\n",
    "                nu_arrays[t,i] = nu_values(t,i,memo)\n",
    "        \n",
    "        # Initialize x_star array\n",
    "        x_star_array = []\n",
    "        \n",
    "        # Calculate the x_star array\n",
    "        for t in range(T-1,-1,-1):\n",
    "            if t == T-1:\n",
    "                x_star = np.argmax(nu_arrays[T-1,:])\n",
    "                x_star_array.append(x_star)\n",
    "            else:\n",
    "                # Do a recursive algorithm\n",
    "                x_star = np.argmax([self.A[x_star_array[-1], j] * nu_arrays[t, j] for j in range(n)])\n",
    "                x_star_array.append(x_star)\n",
    "        \n",
    "        # Return x_star\n",
    "        x_star_array = np.array(x_star_array)[::-1]\n",
    "        return x_star_array"
   ]
  },
  {
   "cell_type": "markdown",
   "metadata": {},
   "source": [
    "# Problem 2 test case\n",
    "\n",
    "Use the following HMM and code to test your HMM class.\n",
    "Compare the output to `forward_pass` with the lab pdf."
   ]
  },
  {
   "cell_type": "code",
   "execution_count": 189,
   "metadata": {},
   "outputs": [
    {
     "name": "stdout",
     "output_type": "stream",
     "text": [
      "0.009629599999999997\n"
     ]
    }
   ],
   "source": [
    "pi = np.array([.6, .4])\n",
    "A = np.array([[.7, .4],[.3, .6]])\n",
    "B = np.array([[.1,.7],[.4, .2],[.5, .1]])\n",
    "z_example = np.array([0, 1, 0, 2])\n",
    "example_hmm = HMM(A, B, pi)\n",
    "\n",
    "alpha=example_hmm.forward_pass(z_example)\n",
    "print(np.sum(alpha[-1,:]))"
   ]
  },
  {
   "cell_type": "markdown",
   "metadata": {},
   "source": [
    "# Problem 3\n",
    "\n",
    "Consider the following (very simplified) model of the price of a stock over time as an HMM.\n",
    "The observation states will be the change in the value of the stock.\n",
    "For simplicity, we will group these into five values: large decrease, small decrease, no change, small increase, large increase, labeled as integers from 0 to 4.\n",
    "The hidden state will be the overall trends of the market.\n",
    "We'll consider the market to have three possible states: declining in value (bear market), not changing in value (stagnant), and increasing in value (bull market), labeled as integers from 0 to 2.\n",
    "Let the HMM modeling this scenario have parameters\n",
    "$$\n",
    "\\boldsymbol\\pi=\\begin{bmatrix}\n",
    "1/3 \\\\ 1/3 \\\\ 1/3\n",
    "\\end{bmatrix},\n",
    "\\quad\n",
    "A=\\begin{bmatrix}\n",
    "0.5 & 0.3 & 0 \\\\\n",
    "0.5 & 0.3 & 0.3 \\\\\n",
    "0 & 0.4 & 0.7\n",
    "\\end{bmatrix},\n",
    "\\quad\n",
    "B=\\begin{bmatrix}\n",
    "0.3 & 0.1 & 0 \\\\\n",
    "0.3 & 0.2 & 0.1 \\\\\n",
    "0.3 & 0.4 & 0.3 \\\\\n",
    "0.1 & 0.2 & 0.4 \\\\\n",
    "0 & 0.1 & 0.2\n",
    "\\end{bmatrix}\n",
    "$$\n",
    "The file `stocks.npy` contains a sequence of 50 observations drawn from this HMM.\n",
    "What is the probability of this observation sequence given these model parameters?\n",
    "Use your implementation of the forward pass algorithm from Problem 2 to find the answer.\n",
    "Note that the answer is very small, because there are lots of possible observation sequences."
   ]
  },
  {
   "cell_type": "code",
   "execution_count": 190,
   "metadata": {},
   "outputs": [],
   "source": [
    "# HMM parameter setup\n",
    "pi = np.array([1/3, 1/3, 1/3])\n",
    "A = np.array([\n",
    "    [0.5, 0.3, 0.0],\n",
    "    [0.5, 0.3, 0.3],\n",
    "    [0.0, 0.4, 0.7]\n",
    "])\n",
    "B = np.array([\n",
    "    [0.3, 0.1, 0.0],\n",
    "    [0.3, 0.2, 0.1],\n",
    "    [0.3, 0.4, 0.3],\n",
    "    [0.1, 0.2, 0.4],\n",
    "    [0.0, 0.1, 0.2]\n",
    "])"
   ]
  },
  {
   "cell_type": "code",
   "execution_count": 191,
   "metadata": {},
   "outputs": [
    {
     "name": "stdout",
     "output_type": "stream",
     "text": [
      "6.671115114537777e-34\n"
     ]
    }
   ],
   "source": [
    "# Load in the stock data\n",
    "stock_data = np.load('stocks.npy')\n",
    "\n",
    "# Initialize the Problem 3 HMM\n",
    "prob_3_hmm = HMM(A,B,pi)\n",
    "alpha= prob_3_hmm.forward_pass(stock_data)\n",
    "print(np.sum(alpha[-1,:]))\n"
   ]
  },
  {
   "cell_type": "markdown",
   "metadata": {},
   "source": [
    "# Problem 4\n",
    "\n",
    "Create a method `backward_pass` in your HMM class to implement the backward pass algorithm.\n",
    "This function should accept the observation sequence $\\mathbf{z}$ and return two arrays of the $\\beta_t(i)$ and $\\gamma_t(i)$ values.\n",
    "\n",
    "Test your function on the example HMM, and compare the output with the lab pdf.\n",
    "\n",
    "With your function and the stock model from Problem 3, answer the following question: given the observation sequence in `stocks.npy`, what is the most likely initial hidden state $X_0$?"
   ]
  },
  {
   "cell_type": "code",
   "execution_count": 192,
   "metadata": {},
   "outputs": [
    {
     "name": "stdout",
     "output_type": "stream",
     "text": [
      "[[0.0302  0.02792]\n",
      " [0.0812  0.1244 ]\n",
      " [0.38    0.26   ]\n",
      " [1.      1.     ]]\n",
      "[[0.18816981 0.81183019]\n",
      " [0.51943175 0.48056825]\n",
      " [0.22887763 0.77112237]\n",
      " [0.8039794  0.1960206 ]]\n"
     ]
    }
   ],
   "source": [
    "# Test case; compare your output with what is in the lab pdf\n",
    "beta, gamma = example_hmm.backward_pass(z_example)\n",
    "print(beta)\n",
    "print(gamma)"
   ]
  },
  {
   "cell_type": "code",
   "execution_count": 193,
   "metadata": {},
   "outputs": [
    {
     "name": "stdout",
     "output_type": "stream",
     "text": [
      "[[2.60906852e-33 1.96928339e-33 1.43633541e-33]\n",
      " [9.28699665e-33 6.08009509e-33 3.36535236e-33]\n",
      " [3.43962839e-32 2.06377703e-32 4.23247583e-33]\n",
      " [1.82281050e-31 1.41082528e-31 9.93352593e-32]\n",
      " [7.28141015e-31 7.30598980e-31 7.92847436e-31]\n",
      " [1.75597024e-30 4.64745479e-30 7.34285927e-30]\n",
      " [2.44167336e-29 3.51194048e-29 4.49234080e-29]\n",
      " [1.84934008e-28 1.51700332e-28 1.27933529e-28]\n",
      " [6.03574990e-28 4.71988798e-28 3.39499396e-28]\n",
      " [2.38746949e-27 2.45454566e-27 2.74609509e-27]\n",
      " [5.27776160e-27 1.59580525e-26 2.55515992e-26]\n",
      " [4.34405713e-26 1.05555232e-25 1.59892444e-25]\n",
      " [1.76031826e-25 3.46389800e-25 4.96818058e-25]\n",
      " [1.00499233e-24 1.25782209e-24 1.50481690e-24]\n",
      " [8.13750694e-24 5.98116987e-24 4.09266682e-24]\n",
      " [3.01389146e-23 1.80833488e-23 9.15554748e-24]\n",
      " [9.91977920e-23 3.05184916e-22 4.89434597e-22]\n",
      " [7.37501843e-22 1.98395584e-21 3.07082801e-21]\n",
      " [2.30729603e-21 6.22137042e-21 9.63409209e-21]\n",
      " [7.16743074e-21 1.94892449e-20 3.02312050e-20]\n",
      " [2.16543233e-20 6.08471458e-20 9.49299152e-20]\n",
      " [6.02714792e-20 1.86407494e-19 2.99090948e-19]\n",
      " [4.31758139e-19 1.20542958e-18 1.87805758e-18]\n",
      " [1.23843439e-18 3.69836420e-18 5.91484188e-18]\n",
      " [1.06417898e-17 2.47686877e-17 3.69412946e-17]\n",
      " [5.38367818e-17 7.94995075e-17 1.14897586e-16]\n",
      " [1.65232262e-15 1.07673564e-15 5.89967980e-16]\n",
      " [6.11971340e-15 3.67182804e-15 7.11183885e-16]\n",
      " [3.28960461e-14 2.37061295e-14 1.40491299e-14]\n",
      " [1.40370844e-13 1.18404195e-13 9.92125452e-14]\n",
      " [4.98087961e-13 6.56576501e-13 8.54542216e-13]\n",
      " [7.81411982e-13 1.90438082e-12 2.98103104e-12]\n",
      " [1.41341126e-11 1.56282396e-11 1.79441703e-11]\n",
      " [3.38322039e-11 4.52964099e-11 5.95647674e-11]\n",
      " [4.97717569e-11 1.31832202e-10 2.08309063e-10]\n",
      " [7.81148385e-10 9.95435138e-10 1.27461435e-09]\n",
      " [1.28755967e-09 2.94007218e-09 4.38955089e-09]\n",
      " [5.87245221e-09 9.93937058e-09 1.35471023e-08]\n",
      " [4.01397564e-08 3.86546439e-08 4.00993704e-08]\n",
      " [1.05370733e-07 2.43341464e-07 3.64269750e-07]\n",
      " [4.72032749e-07 8.17690956e-07 1.12574390e-06]\n",
      " [3.09335112e-06 3.17365193e-06 3.34044567e-06]\n",
      " [9.12708000e-06 8.62144560e-06 1.09803438e-05]\n",
      " [3.04236000e-04 1.82541600e-04 3.93149700e-05]\n",
      " [1.59140700e-03 1.31049900e-03 1.10314710e-03]\n",
      " [5.26770000e-03 4.00626000e-03 2.96379000e-03]\n",
      " [1.86300000e-02 1.23660000e-02 7.04700000e-03]\n",
      " [6.90000000e-02 4.14000000e-02 9.90000000e-03]\n",
      " [3.50000000e-01 3.30000000e-01 3.30000000e-01]\n",
      " [1.00000000e+00 1.00000000e+00 1.00000000e+00]] [[0.39109931 0.39359405 0.21530664]\n",
      " [0.37587256 0.43747493 0.18665251]\n",
      " [0.43155738 0.4826018  0.08584082]\n",
      " [0.72667979 0.27332021 0.        ]\n",
      " [0.5623769  0.37618353 0.06143956]\n",
      " [0.28480554 0.52413064 0.19106382]\n",
      " [0.         0.431041   0.568959  ]\n",
      " [0.0680941  0.22699232 0.70491359]\n",
      " [0.11461888 0.43158647 0.45379465]\n",
      " [0.26448621 0.3781313  0.35738249]\n",
      " [0.16087652 0.44889732 0.39022616]\n",
      " [0.         0.29831549 0.70168451]\n",
      " [0.0149248  0.14994453 0.83513067]\n",
      " [0.01731157 0.17019424 0.81249419]\n",
      " [0.04004092 0.25262556 0.70733352]\n",
      " [0.13681241 0.48449024 0.37869735]\n",
      " [0.30673891 0.69326109 0.        ]\n",
      " [0.         0.44194212 0.55805788]\n",
      " [0.01541906 0.15098775 0.83359319]\n",
      " [0.00761334 0.1425823  0.84980436]\n",
      " [0.00590273 0.13579796 0.85829931]\n",
      " [0.00485686 0.13116567 0.86397747]\n",
      " [0.         0.13476583 0.86523417]\n",
      " [0.00415367 0.12704013 0.8688062 ]\n",
      " [0.         0.13882311 0.86117689]\n",
      " [0.0090523  0.13793238 0.85301531]\n",
      " [0.         0.30491165 0.69508835]\n",
      " [0.15596908 0.6439041  0.20012682]\n",
      " [0.64494847 0.35505153 0.        ]\n",
      " [0.60202196 0.33854098 0.05943706]\n",
      " [0.44860154 0.41783003 0.13356843]\n",
      " [0.150321   0.524183   0.325496  ]\n",
      " [0.         0.33056471 0.66943529]\n",
      " [0.06440495 0.31775423 0.61784083]\n",
      " [0.04563565 0.32526195 0.6291024 ]\n",
      " [0.         0.20950275 0.79049725]\n",
      " [0.02438859 0.29306013 0.68255128]\n",
      " [0.02312232 0.17100207 0.80587561]\n",
      " [0.02861991 0.19308881 0.77829128]\n",
      " [0.05864109 0.37366501 0.5676939 ]\n",
      " [0.03487984 0.19730252 0.76781765]\n",
      " [0.03382088 0.19927371 0.76690541]\n",
      " [0.06654659 0.32133247 0.61212095]\n",
      " [0.         0.57593771 0.42406229]\n",
      " [0.4518949  0.5481051  0.        ]\n",
      " [0.42265728 0.42859311 0.14874961]\n",
      " [0.40359329 0.43166625 0.16474046]\n",
      " [0.44099412 0.46893417 0.09007171]\n",
      " [0.69233674 0.30766326 0.        ]\n",
      " [0.38062391 0.50749854 0.11187755]]\n"
     ]
    }
   ],
   "source": [
    "prob_3_hmm = HMM(A,B,pi)\n",
    "beta, gamma = prob_3_hmm.backward_pass(stock_data)\n",
    "print(beta, gamma)"
   ]
  },
  {
   "cell_type": "markdown",
   "metadata": {},
   "source": [
    "1"
   ]
  },
  {
   "cell_type": "markdown",
   "metadata": {},
   "source": [
    "# Problem 5\n",
    "Creating a method `viterbi_algorithm` in your HMM class to implement the Viterbi algorithm.\n",
    "This function should accept the observation sequence $\\mathbf{z}$ and return the most likely state sequence $\\mathbf{x}^*$.\n",
    "\n",
    "Test your function on the example HMM and compare output with the lab pdf.\n",
    "\n",
    "Apply your function to the stock market HMM from Problem 3.\n",
    "With the observaition sequence from `stocks.npy`, what is the most likely sequence of hidden states?\n",
    "Is the initial state of the most likely sequence the same as the most likely initial state you found in Problem 4?"
   ]
  },
  {
   "cell_type": "code",
   "execution_count": 194,
   "metadata": {},
   "outputs": [
    {
     "name": "stdout",
     "output_type": "stream",
     "text": [
      "[1 1 1 0]\n"
     ]
    }
   ],
   "source": [
    "# Test case\n",
    "xstar = example_hmm.viterbi_algorithm(z_example)\n",
    "print(xstar)"
   ]
  },
  {
   "cell_type": "code",
   "execution_count": 195,
   "metadata": {},
   "outputs": [
    {
     "name": "stdout",
     "output_type": "stream",
     "text": [
      "[0 0 0 0 0 1 2 2 2 2 2 2 2 2 2 2 1 2 2 2 2 2 2 2 2 2 2 1 0 0 0 1 2 2 2 2 2\n",
      " 2 2 2 2 2 2 1 0 0 0 0 0 1]\n"
     ]
    }
   ],
   "source": [
    "prob_5_hmm = HMM(A,B,pi)\n",
    "x_star = prob_5_hmm.viterbi_algorithm(stock_data)\n",
    "print(x_star)"
   ]
  },
  {
   "cell_type": "markdown",
   "metadata": {},
   "source": [
    "The most likely initial state is 0 in this problem. It is different than the most likely initial state because it is solving a different problem"
   ]
  },
  {
   "cell_type": "markdown",
   "metadata": {},
   "source": [
    "# Problem 6\n",
    "\n",
    "Train a `hmmlearn.hmm.CategoricalHMM` on `declaration.txt`. Use `N=2` states and `M=len(set(obs))=27` observation values (26 lower case characters and 1 whitespace character).\n",
    "Use `n_iter=200` and `tol=1e-4`.\n",
    "\n",
    "Once the learning algorithm converges, analyze the state observation matrix $B$. Note which rows correspond to the largest and smallest probability values in each column of $B$, and check the corresponding characters. The HMM should have detected a vowel state and a consonant state."
   ]
  },
  {
   "cell_type": "code",
   "execution_count": 197,
   "metadata": {},
   "outputs": [],
   "source": [
    "def vec_translate(a, my_dict):\n",
    "    # translate numpy array from symbols to state numbers or vice versa\n",
    "    return np.vectorize(my_dict.__getitem__)(a)\n",
    "\n",
    "def prep_data(filename):\n",
    "    \"\"\"\n",
    "    Reads in the file and prepares it for use in an HMM.\n",
    "    Returns:\n",
    "        symbols (dict): a dictionary that maps characters to their integer values\n",
    "        obs_sequence (ndarray): an array of integers representing the read-in text\n",
    "    \"\"\"\n",
    "    # Get the data as a single string\n",
    "    with codecs.open(filename, encoding='utf-8') as f:\n",
    "        data=f.read().lower()  # and convert to all lower case\n",
    "    # remove punctuation and newlines\n",
    "    remove_punct_map = {ord(char): \n",
    "                        None for char in string.punctuation+\"\\n\\r\"}\n",
    "    data = data.translate(remove_punct_map)\n",
    "    # make a list of the symbols in the data\n",
    "    symbols = sorted(list(set(data)))\n",
    "    # convert the data to a NumPy array of symbols\n",
    "    a = np.array(list(data))\n",
    "    # make a conversion dictionary from symbols to state numbers\n",
    "    symbols_to_obsstates = {x:i for i,x in enumerate(symbols)}\n",
    "    # convert the symbols in a to state numbers\n",
    "    obs_sequence = vec_translate(a,symbols_to_obsstates)\n",
    "    return symbols, obs_sequence"
   ]
  },
  {
   "cell_type": "code",
   "execution_count": 208,
   "metadata": {},
   "outputs": [
    {
     "name": "stdout",
     "output_type": "stream",
     "text": [
      " , 0.0500, 0.2990\n",
      "a, 0.0000, 0.1319\n",
      "b, 0.0226, 0.0000\n",
      "c, 0.0437, 0.0000\n",
      "d, 0.0599, 0.0000\n",
      "e, 0.0000, 0.2375\n",
      "f, 0.0428, 0.0000\n",
      "g, 0.0309, 0.0000\n",
      "h, 0.0829, 0.0001\n",
      "i, 0.0000, 0.1241\n",
      "j, 0.0038, 0.0000\n",
      "k, 0.0030, 0.0004\n",
      "l, 0.0542, 0.0000\n",
      "m, 0.0342, 0.0000\n",
      "n, 0.1148, 0.0000\n",
      "o, 0.0036, 0.1376\n",
      "p, 0.0328, 0.0000\n",
      "q, 0.0014, 0.0000\n",
      "r, 0.1010, 0.0000\n",
      "s, 0.1136, 0.0000\n",
      "t, 0.1521, 0.0000\n",
      "u, 0.0000, 0.0578\n",
      "v, 0.0176, 0.0000\n",
      "w, 0.0230, 0.0000\n",
      "x, 0.0021, 0.0000\n",
      "y, 0.0093, 0.0116\n",
      "z, 0.0010, 0.0000\n"
     ]
    }
   ],
   "source": [
    "# Load in data\n",
    "symbols, obs = prep_data('declaration.txt')\n",
    "\n",
    "# Set the number of states and observation values\n",
    "N = 2\n",
    "M = len(set(obs))\n",
    "\n",
    "# Create and fit the CategoricalHMM\n",
    "h = hmm.CategoricalHMM(n_components=N, n_iter=200, tol=1e-4)\n",
    "\n",
    "# Fit the model\n",
    "h.fit(obs.reshape(-1,1))\n",
    "\n",
    "# Get the emission probabilities matrix B\n",
    "B = h.emissionprob_.T\n",
    "\n",
    "for i in range(len(B)):\n",
    "    print(u\"{}, {:0.4f}, {:0.4f}\".format(symbols[i], *B[i,:]))\n",
    "\n",
    "\n",
    "\n",
    "\n"
   ]
  },
  {
   "cell_type": "markdown",
   "metadata": {},
   "source": [
    "# Problem 7\n",
    "\n",
    "Repeat the same calculation with `WarAndPeace.txt` with 2 hidden states. Interpret/explain your results. Which Cyrillic characters appear to be vowels?"
   ]
  },
  {
   "cell_type": "code",
   "execution_count": 212,
   "metadata": {},
   "outputs": [
    {
     "name": "stdout",
     "output_type": "stream",
     "text": [
      " , 0.2146, 0.0877\n",
      "а, 0.0000, 0.1760\n",
      "б, 0.0250, 0.0000\n",
      "в, 0.0655, 0.0000\n",
      "г, 0.0296, 0.0000\n",
      "д, 0.0385, 0.0000\n",
      "е, 0.0180, 0.1427\n",
      "ж, 0.0140, 0.0000\n",
      "з, 0.0252, 0.0000\n",
      "и, 0.0017, 0.1315\n",
      "й, 0.0149, 0.0000\n",
      "к, 0.0497, 0.0010\n",
      "л, 0.0719, 0.0000\n",
      "м, 0.0381, 0.0000\n",
      "н, 0.0973, 0.0000\n",
      "о, 0.0000, 0.2407\n",
      "п, 0.0346, 0.0062\n",
      "р, 0.0597, 0.0000\n",
      "с, 0.0513, 0.0280\n",
      "т, 0.0780, 0.0000\n",
      "у, 0.0000, 0.0590\n",
      "ф, 0.0018, 0.0003\n",
      "х, 0.0111, 0.0000\n",
      "ц, 0.0049, 0.0000\n",
      "ч, 0.0167, 0.0038\n",
      "ш, 0.0109, 0.0000\n",
      "щ, 0.0047, 0.0000\n",
      "ъ, 0.0003, 0.0003\n",
      "ы, 0.0000, 0.0376\n",
      "ь, 0.0009, 0.0433\n",
      "э, 0.0000, 0.0066\n",
      "ю, 0.0079, 0.0024\n",
      "я, 0.0128, 0.0328\n",
      "ё, 0.0000, 0.0001\n"
     ]
    }
   ],
   "source": [
    "# Load in data\n",
    "symbols, obs = prep_data('WarAndPeace.txt')\n",
    "\n",
    "# Set the number of states and observation values\n",
    "N = 2\n",
    "M = len(set(obs))\n",
    "h = hmm.CategoricalHMM(n_components=N, n_iter=200, tol=1e-4)\n",
    "\n",
    "# Fit the model \n",
    "h.fit(obs.reshape(-1,1))\n",
    "\n",
    "# Get the emission probabilities matrix B\n",
    "B = h.emissionprob_.T\n",
    "\n",
    "for i in range(len(B)):\n",
    "    print(u\"{}, {:0.4f}, {:0.4f}\".format(symbols[i], *B[i,:]))"
   ]
  },
  {
   "cell_type": "markdown",
   "metadata": {},
   "source": [
    "*Write your analysis here.*\n",
    "\n",
    "The consonants are the ones with nonzero probabilities in the left column and the vowels are the ones with nonzero probabilities in the right column. Thus the Cyrillic characters that appear to be vowels:\n",
    "\n",
    "a, e, и, o, y, ы, ь, я, ё"
   ]
  }
 ],
 "metadata": {
  "kernelspec": {
   "display_name": "Python 3 (ipykernel)",
   "language": "python",
   "name": "python3"
  },
  "language_info": {
   "codemirror_mode": {
    "name": "ipython",
    "version": 3
   },
   "file_extension": ".py",
   "mimetype": "text/x-python",
   "name": "python",
   "nbconvert_exporter": "python",
   "pygments_lexer": "ipython3",
   "version": "3.11.5"
  }
 },
 "nbformat": 4,
 "nbformat_minor": 2
}
